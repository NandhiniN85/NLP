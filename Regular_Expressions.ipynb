{
 "cells": [
  {
   "cell_type": "code",
   "execution_count": 1,
   "metadata": {},
   "outputs": [],
   "source": [
    "import re, string\n",
    "\n",
    "def Cleanse_data(x):  \n",
    "  x = x.lower() \n",
    "  res = re.sub(r'(event: critical:\\w+\\.company\\.com)', ' ', x)  #host name removal\n",
    "  res = re.sub(r'(user id:\\w+)|(user id: \\w+)|(userid:\\w+)|(userid: \\w+)',' ', res)\n",
    "  res = re.sub(r'(u200b)', ' ', res)\n",
    "  res = re.sub(r'(/\\w+/)', ' ', res) #folder path removal\n",
    "  res = re.sub(r'((\\w|\\.)+@\\w+.com)|(\\w+@\\w+.com)|(\\w+\\.\\w+.com)|(cid:image\\w+\\.\\w+@\\w+\\.\\w+)',' ', res) #mailid removal\n",
    "  res = re.sub(r'(from:\\s\\w+\\s\\w+)', ' ', res)\n",
    "  res = re.sub(r'(sent:\\s\\w+\\s\\w+\\s\\w+\\s\\w+:\\w+)', ' ', res) \n",
    "  res = re.sub(r'(received from:\\s)', ' ', res)\n",
    "  res = re.sub(r'(mailto:)', ' ', res)  \n",
    "  res = re.sub(r'(to:\\s)', ' ', res)\n",
    "  res = re.sub(r'(name:\\s)', ' ', res)\n",
    "  res = re.sub(r'(email:\\s)', ' ', res)\n",
    "  res = re.sub(r'(cc:\\s)', ' ', res)\n",
    "  res = re.sub(r'(subject:)', ' ', res)\n",
    "  res = re.sub(r'(tel:)', ' ', res)\n",
    "  res = re.sub(r'(mob:)', ' ', res)\n",
    "  res = re.sub(r'(sent:)', ' ', res)\n",
    "  res = re.sub(r'(name:\\w+\\s)', ' ', res)\n",
    "  res = re.sub(r'(\\w+\\d)|(\\w+:\\d)', ' ', res) #ticked ids or unique ids\n",
    "  res = re.sub(r'\\d', ' ', res) #numbers\n",
    "  res = re.sub(r'[!\"#$%&\\'()*+,-./:;<=>?@\\\\^_`{|}~\\[\\]\\n]',' ',res) #punctuations  \n",
    "  res = re.sub(r'(monday)|(tuesday)|(wednesday)|(thursday)|(friday)|(saturday)|(sunday)', ' ', res)\n",
    "  res = re.sub(r'(january)|(february)|(march)|(april)|(may)|(june)|(july)|(august)|(september)|(october)|(november)|(december)', ' ', res)\n",
    "  res = re.sub(r'( am )|( pm )', ' ', res)\n",
    "\n",
    "  # print('Before:', x)\n",
    "  # print('After:', res)\n",
    "  return res"
   ]
  },
  {
   "cell_type": "code",
   "execution_count": 33,
   "metadata": {},
   "outputs": [],
   "source": [
    "text = \"received from: Tommy@gmail.com\\n\\n hello helpdesk \\n\\nRecently,  I received a new debit card as a replacement for the old one. But, I am not able to make any online transactions using the new card. Could you please look into the issue and resolve it soon? As I have pending bills that need to be paid.I am attaching a screenshot of the latest error received.\\n\\n [cid:error1.jpg]\\n\\nThanks & Regards, Tommy\""
   ]
  },
  {
   "cell_type": "code",
   "execution_count": 34,
   "metadata": {},
   "outputs": [
    {
     "name": "stdout",
     "output_type": "stream",
     "text": [
      "received from: Tommy@gmail.com\n",
      "\n",
      " hello helpdesk \n",
      "\n",
      "Recently,  I received a new debit card as a replacement for the old one. But, I am not able to make any online transactions using the new card. Could you please look into the issue and resolve it soon? As I have pending bills that need to be paid.I am attaching a screenshot of the latest error received.\n",
      "\n",
      " [cid:error1.jpg]\n",
      "\n",
      "Thanks & Regards, Tommy\n"
     ]
    }
   ],
   "source": [
    "print(text)"
   ]
  },
  {
   "cell_type": "code",
   "execution_count": 35,
   "metadata": {},
   "outputs": [],
   "source": [
    "text = text.lower()"
   ]
  },
  {
   "cell_type": "code",
   "execution_count": 36,
   "metadata": {},
   "outputs": [
    {
     "name": "stdout",
     "output_type": "stream",
     "text": [
      "received from: tommy@gmail.com\n",
      "\n",
      " hello helpdesk \n",
      "\n",
      "recently,  i received a new debit card as a replacement for the old one. but, i am not able to make any online transactions using the new card. could you please look into the issue and resolve it soon? as i have pending bills that need to be paid.i am attaching a screenshot of the latest error received.\n",
      "\n",
      " [cid:error1.jpg]\n",
      "\n",
      "thanks & regards, tommy\n"
     ]
    }
   ],
   "source": [
    "print(text)"
   ]
  },
  {
   "cell_type": "code",
   "execution_count": 37,
   "metadata": {},
   "outputs": [],
   "source": [
    "#let's replace received from with spaces\n",
    "text = re.sub(r'(received from:\\s+\\w+)', ' ', text)"
   ]
  },
  {
   "cell_type": "code",
   "execution_count": 38,
   "metadata": {},
   "outputs": [
    {
     "name": "stdout",
     "output_type": "stream",
     "text": [
      " @gmail.com\n",
      "\n",
      " hello helpdesk \n",
      "\n",
      "recently,  i received a new debit card as a replacement for the old one. but, i am not able to make any online transactions using the new card. could you please look into the issue and resolve it soon? as i have pending bills that need to be paid.i am attaching a screenshot of the latest error received.\n",
      "\n",
      " [cid:error1.jpg]\n",
      "\n",
      "thanks & regards, tommy\n"
     ]
    }
   ],
   "source": [
    "print(text)"
   ]
  },
  {
   "cell_type": "code",
   "execution_count": 40,
   "metadata": {},
   "outputs": [],
   "source": [
    "puncts = [',', '.', '\"', ':', ')', '(', '-', '!', '?', '|', ';', \"'\", '$', '&',\n",
    "          '/', '[', ']', '>', '%', '=', '#', '*', '+', '\\\\', '•',  '~', '@', '£',\n",
    "          '·', '_', '{', '}', '©', '^', '®', '`',  '<', '→', '°', '€', '™', '›',\n",
    "          '♥', '←', '×', '§', '″', '′', 'Â', '█', '½', 'à', '…', '\\xa0', '\\t',\n",
    "          '“', '★', '”', '–', '●', 'â', '►', '−', '¢', '²', '¬', '░', '¶', '↑',\n",
    "          '±', '¿', '▾', '═', '¦', '║', '―', '¥', '▓', '—', '‹', '─', '\\u3000', '\\u202f',\n",
    "          '▒', '：', '¼', '⊕', '▼', '▪', '†', '■', '’', '▀', '¨', '▄', '♫',\n",
    "          '☆', 'é', '¯', '♦', '¤', '▲', 'è', '¸', '¾', 'Ã', '⋅', '‘', '∞', '«',\n",
    "          '∙', '）', '↓', '、', '│', '（', '»', '，', '♪', '╩', '╚', '³', '・',\n",
    "          '╦', '╣', '╔', '╗', '▬', '❤', 'ï', 'Ø', '¹', '≤', '‡', '√','☺','•','\\u200e','·','…',\n",
    "          'a', 'b', 'c', 'd', 'e', 'f', 'g', 'h', 'i', 'j', 'k', 'l',\n",
    "          'm', 'n', 'o', 'p', 'q', 'r', 's', 't', 'u', 'v', 'w' , 'x', 'y', 'z']\n"
   ]
  },
  {
   "cell_type": "code",
   "execution_count": 42,
   "metadata": {},
   "outputs": [
    {
     "name": "stderr",
     "output_type": "stream",
     "text": [
      "[nltk_data] Downloading package punkt to\n",
      "[nltk_data]     C:\\Users\\91965\\AppData\\Roaming\\nltk_data...\n",
      "[nltk_data]   Package punkt is already up-to-date!\n"
     ]
    },
    {
     "data": {
      "text/plain": [
       "True"
      ]
     },
     "execution_count": 42,
     "metadata": {},
     "output_type": "execute_result"
    }
   ],
   "source": [
    "import nltk\n",
    "nltk.download('punkt') # download the tokenizer"
   ]
  },
  {
   "cell_type": "code",
   "execution_count": 45,
   "metadata": {},
   "outputs": [],
   "source": [
    "def advance_punct_remove(x):\n",
    "  list1 = [str(word) for word in nltk.word_tokenize(x) if word not in puncts]  \n",
    "  return ' '.join(list1)"
   ]
  },
  {
   "cell_type": "code",
   "execution_count": 44,
   "metadata": {},
   "outputs": [
    {
     "data": {
      "text/plain": [
       "'gmail.com hello helpdesk recently received new debit card as replacement for the old one but am not able to make any online transactions using the new card could you please look into the issue and resolve it soon as have pending bills that need to be paid.i am attaching screenshot of the latest error received cid error1.jpg thanks regards tommy'"
      ]
     },
     "execution_count": 44,
     "metadata": {},
     "output_type": "execute_result"
    }
   ],
   "source": [
    "advance_punct_remove(text)"
   ]
  },
  {
   "cell_type": "code",
   "execution_count": null,
   "metadata": {},
   "outputs": [],
   "source": []
  }
 ],
 "metadata": {
  "kernelspec": {
   "display_name": "Python 3",
   "language": "python",
   "name": "python3"
  },
  "language_info": {
   "codemirror_mode": {
    "name": "ipython",
    "version": 3
   },
   "file_extension": ".py",
   "mimetype": "text/x-python",
   "name": "python",
   "nbconvert_exporter": "python",
   "pygments_lexer": "ipython3",
   "version": "3.7.6"
  }
 },
 "nbformat": 4,
 "nbformat_minor": 4
}
